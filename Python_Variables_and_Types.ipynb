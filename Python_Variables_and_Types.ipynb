{
  "nbformat": 4,
  "nbformat_minor": 0,
  "metadata": {
    "colab": {
      "provenance": []
    },
    "kernelspec": {
      "name": "python3",
      "display_name": "Python 3"
    },
    "language_info": {
      "name": "python"
    }
  },
  "cells": [
    {
      "cell_type": "code",
      "execution_count": null,
      "metadata": {
        "id": "_nFG9XTeWe7L"
      },
      "outputs": [],
      "source": [
        "# Python Variables, Strings, and Numbers\n",
        "\n",
        "## Declaring and Assigning a Variable\n",
        "x = 10\n",
        "\n",
        "## Reassigning the Value of a Variable\n",
        "x = 5\n",
        "\n"
      ]
    },
    {
      "cell_type": "code",
      "source": [
        "## Concatenating Two Strings\n",
        "string1 = \"Hello\"\n",
        "string2 = \"world\"\n",
        "concatenated_string = string1 + \" \" + string2\n",
        "print(concatenated_string)\n",
        "\n"
      ],
      "metadata": {
        "colab": {
          "base_uri": "https://localhost:8080/"
        },
        "id": "pIBe6DUkX3Ox",
        "outputId": "dbe80be7-a3c9-4936-b607-24e567438fe8"
      },
      "execution_count": null,
      "outputs": [
        {
          "output_type": "stream",
          "name": "stdout",
          "text": [
            "Hello world\n"
          ]
        }
      ]
    },
    {
      "cell_type": "code",
      "source": [
        "## Converting a String to an Integer\n",
        "string_number = \"10\"\n",
        "integer_number = int(string_number)\n",
        "print(integer_number)\n",
        "\n"
      ],
      "metadata": {
        "colab": {
          "base_uri": "https://localhost:8080/"
        },
        "id": "UlEqvIDZX7pP",
        "outputId": "a35ee830-b99c-4ce3-be38-e3403fd0cd60"
      },
      "execution_count": null,
      "outputs": [
        {
          "output_type": "stream",
          "name": "stdout",
          "text": [
            "10\n"
          ]
        }
      ]
    },
    {
      "cell_type": "code",
      "source": [
        "## Converting a String to a Float\n",
        "string_float = \"10.5\"\n",
        "float_number = float(string_float)\n",
        "print(float_number)\n",
        "\n"
      ],
      "metadata": {
        "colab": {
          "base_uri": "https://localhost:8080/"
        },
        "id": "2t3VUdmzX_Zh",
        "outputId": "cb414cf9-6c82-4b65-9d6b-010189aa7b5e"
      },
      "execution_count": null,
      "outputs": [
        {
          "output_type": "stream",
          "name": "stdout",
          "text": [
            "10.5\n"
          ]
        }
      ]
    },
    {
      "cell_type": "code",
      "source": [
        "## Arithmetic Operations on Numbers\n",
        "x = 10\n",
        "y = 5\n",
        "addition = x + y\n",
        "subtraction = x - y\n",
        "multiplication = x * y\n",
        "division = x / y\n",
        "modulus = x % y\n",
        "exponentiation = x ** y\n",
        "\n"
      ],
      "metadata": {
        "id": "pJ8lqeiRYBIG"
      },
      "execution_count": null,
      "outputs": []
    },
    {
      "cell_type": "code",
      "source": [
        "## Finding the Length of a String\n",
        "string = \"Hello world\"\n",
        "length = len(string)\n",
        "print(length)\n",
        "\n"
      ],
      "metadata": {
        "colab": {
          "base_uri": "https://localhost:8080/"
        },
        "id": "6M5xms32YC3T",
        "outputId": "06bab47a-76b6-41de-935f-e2ac66ed838f"
      },
      "execution_count": null,
      "outputs": [
        {
          "output_type": "stream",
          "name": "stdout",
          "text": [
            "11\n"
          ]
        }
      ]
    },
    {
      "cell_type": "code",
      "source": [
        "## String Methods\n",
        "string = \"Hello world\"\n",
        "upper_case = string.upper()\n",
        "lower_case = string.lower()\n",
        "capitalized = string.capitalize()\n",
        "\n"
      ],
      "metadata": {
        "id": "XqXOukLlYKTV"
      },
      "execution_count": null,
      "outputs": []
    },
    {
      "cell_type": "code",
      "source": [
        "## String Formatting\n",
        "name = \"John\"\n",
        "age = 30\n",
        "formatted_string = \"My name is {} and I am {} years old\".format(name, age)\n",
        "print(formatted_string)\n",
        "\n"
      ],
      "metadata": {
        "colab": {
          "base_uri": "https://localhost:8080/"
        },
        "id": "CLhX9yNIYNE5",
        "outputId": "8935805b-f637-44fb-a56b-e5f100590fdb"
      },
      "execution_count": null,
      "outputs": [
        {
          "output_type": "stream",
          "name": "stdout",
          "text": [
            "My name is John and I am 30 years old\n"
          ]
        }
      ]
    },
    {
      "cell_type": "code",
      "source": [
        "## F-Strings (Python 3.6 and Above)\n",
        "name = \"John\"\n",
        "age = 30\n",
        "formatted_string = f\"My name is {name} and I am {age} years old\"\n",
        "print(formatted_string)"
      ],
      "metadata": {
        "colab": {
          "base_uri": "https://localhost:8080/"
        },
        "id": "ieL05UqiYXkS",
        "outputId": "90af95a1-0057-46a9-c20c-2b494ea47bad"
      },
      "execution_count": null,
      "outputs": [
        {
          "output_type": "stream",
          "name": "stdout",
          "text": [
            "My name is John and I am 30 years old\n"
          ]
        }
      ]
    }
  ]
}