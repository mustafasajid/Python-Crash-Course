{
  "nbformat": 4,
  "nbformat_minor": 0,
  "metadata": {
    "colab": {
      "provenance": []
    },
    "kernelspec": {
      "name": "python3",
      "display_name": "Python 3"
    },
    "language_info": {
      "name": "python"
    }
  },
  "cells": [
    {
      "cell_type": "markdown",
      "source": [
        "# **Lists:**\n",
        "Lists are a collection of items in a specific order. You can create a list in Python by enclosing a comma-separated sequence of elements within square brackets []. Lists are mutable, which means you can add, remove, or modify elements in a list after it has been created."
      ],
      "metadata": {
        "id": "cg5bhM9fX9bJ"
      }
    },
    {
      "cell_type": "code",
      "source": [
        "# Creating a list\n",
        "fruits = [\"apple\", \"banana\", \"cherry\"]\n",
        "\n",
        "# Accessing elements of a list\n",
        "print(fruits[0])    # Output: \"apple\"\n",
        "\n",
        "# Adding an element to a list\n",
        "fruits.append(\"orange\")\n",
        "\n",
        "# Removing an element from a list\n",
        "fruits.remove(\"banana\")\n",
        "\n",
        "# Modifying an element in a list\n",
        "fruits[1] = \"pear\"\n"
      ],
      "metadata": {
        "colab": {
          "base_uri": "https://localhost:8080/"
        },
        "id": "-7PK8kVMYCvv",
        "outputId": "72ecaf78-71c4-4149-c398-84865085262f"
      },
      "execution_count": null,
      "outputs": [
        {
          "output_type": "stream",
          "name": "stdout",
          "text": [
            "apple\n"
          ]
        }
      ]
    },
    {
      "cell_type": "markdown",
      "source": [
        "# **Dictionaries:**\n",
        "Dictionaries are collections of key-value pairs. You can create a dictionary in Python by enclosing a comma-separated sequence of key-value pairs within curly braces {}. Dictionaries are mutable and unordered, which means you can add, remove, or modify key-value pairs in a dictionary after it has been created."
      ],
      "metadata": {
        "id": "hHBtwU4jYFmU"
      }
    },
    {
      "cell_type": "code",
      "source": [
        "# Creating a dictionary\n",
        "person = {\"name\": \"Alice\", \"age\": 30, \"city\": \"New York\"}\n",
        "\n",
        "# Accessing values in a dictionary\n",
        "print(person[\"name\"])    # Output: \"Alice\"\n",
        "\n",
        "# Adding a key-value pair to a dictionary\n",
        "person[\"country\"] = \"USA\"\n",
        "\n",
        "# Removing a key-value pair from a dictionary\n",
        "del person[\"age\"]\n",
        "\n",
        "# Modifying a value in a dictionary\n",
        "person[\"city\"] = \"San Francisco\"\n"
      ],
      "metadata": {
        "colab": {
          "base_uri": "https://localhost:8080/"
        },
        "id": "E3VGHzLqYKOq",
        "outputId": "4b3c9bb0-a74b-4a0e-d909-821e0c6b01c5"
      },
      "execution_count": null,
      "outputs": [
        {
          "output_type": "stream",
          "name": "stdout",
          "text": [
            "Alice\n"
          ]
        }
      ]
    },
    {
      "cell_type": "markdown",
      "source": [
        "# **Tuples:**\n",
        "Tuples are similar to lists but are immutable, which means you cannot add, remove, or modify elements in a tuple after it has been created. You can create a tuple in Python by enclosing a comma-separated sequence of elements within parentheses ()."
      ],
      "metadata": {
        "id": "UkQZogrmamXg"
      }
    },
    {
      "cell_type": "code",
      "source": [
        "# Creating a tuple\n",
        "colors = (\"red\", \"green\", \"blue\")\n",
        "\n",
        "# Accessing elements of a tuple\n",
        "print(colors[0])    # Output: \"red\"\n"
      ],
      "metadata": {
        "id": "KcrQ0aWran8u",
        "outputId": "82f25a1f-713c-4695-b345-33064d6554dd",
        "colab": {
          "base_uri": "https://localhost:8080/"
        }
      },
      "execution_count": null,
      "outputs": [
        {
          "output_type": "stream",
          "name": "stdout",
          "text": [
            "red\n"
          ]
        }
      ]
    },
    {
      "cell_type": "markdown",
      "source": [
        "# **Sets:**\n",
        "Sets are collections of unique elements in no particular order. You can create a set in Python by enclosing a comma-separated sequence of elements within curly braces {}. Sets are mutable, which means you can add or remove elements from a set after it has been created."
      ],
      "metadata": {
        "id": "vR39whJ1aqSn"
      }
    },
    {
      "cell_type": "code",
      "source": [
        "# Creating a set\n",
        "fruits = {\"apple\", \"banana\", \"cherry\",\"cherry\"}\n",
        "\n",
        "print (fruits)\n",
        "\n",
        "# Adding an element to a set\n",
        "fruits.add(\"orange\")\n",
        "\n",
        "# Removing an element from a set\n",
        "fruits.remove(\"banana\")\n"
      ],
      "metadata": {
        "id": "gUIGIfkya0a8",
        "outputId": "00591d89-d768-4fc2-c631-3840721ea923",
        "colab": {
          "base_uri": "https://localhost:8080/"
        }
      },
      "execution_count": null,
      "outputs": [
        {
          "output_type": "stream",
          "name": "stdout",
          "text": [
            "{'banana', 'apple', 'cherry'}\n"
          ]
        }
      ]
    }
  ]
}