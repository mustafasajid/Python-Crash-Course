{
  "nbformat": 4,
  "nbformat_minor": 0,
  "metadata": {
    "colab": {
      "provenance": []
    },
    "kernelspec": {
      "name": "python3",
      "display_name": "Python 3"
    },
    "language_info": {
      "name": "python"
    }
  },
  "cells": [
    {
      "cell_type": "markdown",
      "source": [
        "# **Iteration/Loop**"
      ],
      "metadata": {
        "id": "nUU_ZOuXpDUM"
      }
    },
    {
      "cell_type": "code",
      "execution_count": null,
      "metadata": {
        "colab": {
          "base_uri": "https://localhost:8080/"
        },
        "id": "_Wk_pGSymwAp",
        "outputId": "9e30bbfc-1c0a-4d94-d117-c65cc5cf8a47"
      },
      "outputs": [
        {
          "output_type": "stream",
          "name": "stdout",
          "text": [
            "apple\n",
            "banana\n",
            "cherry\n"
          ]
        }
      ],
      "source": [
        "#for Loop\n",
        "\n",
        "fruits = [\"apple\", \"banana\", \"cherry\"]\n",
        "for fruit in fruits:\n",
        "  print(fruit)\n"
      ]
    },
    {
      "cell_type": "markdown",
      "source": [
        "Explanation: This loop iterates through the fruits list and assigns each element to the variable fruit. The print statement then prints the value of fruit in each iteration."
      ],
      "metadata": {
        "id": "Np6wb9E1m5qx"
      }
    },
    {
      "cell_type": "code",
      "source": [
        "#while Loop\n",
        "\n",
        "i = 1\n",
        "while i <= 5:\n",
        "  print(i)\n",
        "  i += 1"
      ],
      "metadata": {
        "colab": {
          "base_uri": "https://localhost:8080/"
        },
        "id": "mD4S_9mQm9M2",
        "outputId": "a472ecf9-7f8e-4ee0-a4c2-a4e3d7138f05"
      },
      "execution_count": null,
      "outputs": [
        {
          "output_type": "stream",
          "name": "stdout",
          "text": [
            "-1\n",
            "0\n",
            "1\n",
            "2\n",
            "3\n",
            "4\n",
            "5\n"
          ]
        }
      ]
    },
    {
      "cell_type": "markdown",
      "source": [
        "Explanation: This loop continues to execute the block of code as long as the condition i <= 5 is true. The print statement then prints the value of i in each iteration, and the i += 1 statement increments the value of i by 1."
      ],
      "metadata": {
        "id": "Cq2SNN_bnFb_"
      }
    },
    {
      "cell_type": "code",
      "source": [
        "#with Range Function\n",
        "\n",
        "for i in range(1, 5):\n",
        "  print(i)\n"
      ],
      "metadata": {
        "colab": {
          "base_uri": "https://localhost:8080/"
        },
        "id": "RGFMxdtknGbN",
        "outputId": "8835acdc-61d3-4741-f705-c28943adc613"
      },
      "execution_count": null,
      "outputs": [
        {
          "output_type": "stream",
          "name": "stdout",
          "text": [
            "1\n",
            "2\n",
            "3\n",
            "4\n"
          ]
        }
      ]
    },
    {
      "cell_type": "markdown",
      "source": [
        "Explanation: The range function generates a sequence of numbers from the start value (inclusive) to the stop value (exclusive). In this example, it generates the sequence 1, 2, 3, 4, which is then iterated through using a for loop. The print statement then prints the value of i in each iteration."
      ],
      "metadata": {
        "id": "0friUh_4nQPK"
      }
    },
    {
      "cell_type": "code",
      "source": [
        "#enumerate function:\n",
        "\n",
        "fruits = [\"apple\", \"banana\", \"cherry\"]\n",
        "for i, fruit in enumerate(fruits):\n",
        "  print(i, fruit)"
      ],
      "metadata": {
        "colab": {
          "base_uri": "https://localhost:8080/"
        },
        "id": "B2b9D0bUnREl",
        "outputId": "16c6fc16-caa6-486b-a9c3-8ba60bc9b8d1"
      },
      "execution_count": null,
      "outputs": [
        {
          "output_type": "stream",
          "name": "stdout",
          "text": [
            "0 apple\n",
            "1 banana\n",
            "2 cherry\n"
          ]
        }
      ]
    },
    {
      "cell_type": "markdown",
      "source": [
        "Explanation: The enumerate function returns an iterator that generates pairs of index-value pairs for a given sequence. In this example, it generates the pairs (0, \"apple\"), (1, \"banana\"), (2, \"cherry\"), which are then iterated through using a for loop. The print statement then prints both the index (i) and the value (fruit) in each iteration."
      ],
      "metadata": {
        "id": "5la5tBIRnZ8l"
      }
    },
    {
      "cell_type": "code",
      "source": [
        "#zip function:\n",
        "\n",
        "fruits = [\"apple\", \"banana\", \"cherry\"]\n",
        "colors = [\"red\", \"yellow\", \"black\"]\n",
        "for fruit, color in zip(fruits, colors):\n",
        "  print(fruit, \"is\", color)\n"
      ],
      "metadata": {
        "colab": {
          "base_uri": "https://localhost:8080/"
        },
        "id": "-7ce0bdtnbkL",
        "outputId": "d96db2ec-79a9-4db4-b7cd-6d50907915f2"
      },
      "execution_count": null,
      "outputs": [
        {
          "output_type": "stream",
          "name": "stdout",
          "text": [
            "apple is red\n",
            "banana is yellow\n",
            "cherry is black\n"
          ]
        }
      ]
    },
    {
      "cell_type": "markdown",
      "source": [
        "Explanation: The zip function returns an iterator that generates tuples of corresponding elements from multiple sequences. In this example, it generates the tuples (\"apple\", \"red\"), (\"banana\", \"yellow\"), (\"cherry\", \"black\"), which are then iterated through using a for loop. The print statement then prints a message that combines the value of fruit with the value of color in each tuple."
      ],
      "metadata": {
        "id": "3z6-47ZVngJA"
      }
    },
    {
      "cell_type": "markdown",
      "source": [
        "# **Range Function (More Examples)**"
      ],
      "metadata": {
        "id": "8BfjS3kko5l5"
      }
    },
    {
      "cell_type": "code",
      "source": [
        "# Basic usage\n",
        "print(\"Example 1:\")\n",
        "for i in range(5):\n",
        "  print(i)\n",
        "\n",
        "# Start and stop values\n",
        "print(\"\\nExample 2:\")\n",
        "for i in range(2, 7):\n",
        "  print(i)\n",
        "\n",
        "# Step value\n",
        "print(\"\\nExample 3:\")\n",
        "for i in range(0, 10, 2):\n",
        "  print(i)\n",
        "\n",
        "# Backward iteration\n",
        "print(\"\\nExample 4:\")\n",
        "for i in range(5, 0, -1):\n",
        "  print(i)\n",
        "\n",
        "# Creating lists\n",
        "print(\"\\nExample 5:\")\n",
        "even_numbers = list(range(0, 10, 2))\n",
        "print(even_numbers)\n"
      ],
      "metadata": {
        "colab": {
          "base_uri": "https://localhost:8080/"
        },
        "id": "BfSSx2GlnjLx",
        "outputId": "bd3b413e-cbae-42f9-fd21-3b9bb8140522"
      },
      "execution_count": null,
      "outputs": [
        {
          "output_type": "stream",
          "name": "stdout",
          "text": [
            "Example 1:\n",
            "0\n",
            "1\n",
            "2\n",
            "3\n",
            "4\n",
            "\n",
            "Example 2:\n",
            "2\n",
            "3\n",
            "4\n",
            "5\n",
            "6\n",
            "\n",
            "Example 3:\n",
            "0\n",
            "2\n",
            "4\n",
            "6\n",
            "8\n",
            "\n",
            "Example 4:\n",
            "5\n",
            "4\n",
            "3\n",
            "2\n",
            "1\n",
            "\n",
            "Example 5:\n",
            "[0, 2, 4, 6, 8]\n"
          ]
        }
      ]
    }
  ]
}