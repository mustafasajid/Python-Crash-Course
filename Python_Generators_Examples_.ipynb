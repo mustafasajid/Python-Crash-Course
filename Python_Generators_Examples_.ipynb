{
  "nbformat": 4,
  "nbformat_minor": 0,
  "metadata": {
    "colab": {
      "provenance": []
    },
    "kernelspec": {
      "name": "python3",
      "display_name": "Python 3"
    },
    "language_info": {
      "name": "python"
    }
  },
  "cells": [
    {
      "cell_type": "markdown",
      "source": [
        "# **Python Generator Expressions:**\n",
        "A generator expression is a compact way to create a generator object in Python. It is similar to a list comprehension, but instead of creating a list, it creates a generator that produces values on-the-fly. Generator expressions are enclosed in parentheses and are defined in a similar way to list comprehensions, with a for loop and an optional if statement."
      ],
      "metadata": {
        "id": "DqejzRT86mvT"
      }
    },
    {
      "cell_type": "code",
      "execution_count": null,
      "metadata": {
        "colab": {
          "base_uri": "https://localhost:8080/"
        },
        "id": "8I8I1MNg6lTD",
        "outputId": "86de5698-592f-41b1-d8fd-f88fc857de85"
      },
      "outputs": [
        {
          "output_type": "stream",
          "name": "stdout",
          "text": [
            "0\n",
            "2\n",
            "4\n",
            "6\n",
            "8\n",
            "10\n",
            "12\n",
            "14\n",
            "16\n",
            "18\n"
          ]
        }
      ],
      "source": [
        "# A generator expression that generates the first 10 even numbers\n",
        "even_gen = (x for x in range(20) if x % 2 == 0)\n",
        "\n",
        "# Loop through the generator and print the even numbers\n",
        "for num in even_gen:\n",
        "    print(num)\n"
      ]
    },
    {
      "cell_type": "markdown",
      "source": [
        "# **Generator Functions:**\n",
        "\n",
        "Generator functions are functions that use the yield keyword to return a generator object. When the function is called, it does not execute the entire function at once, but rather it starts executing and stops at the first yield statement. When the generator is iterated over, it runs the function until the next yield statement is encountered, and then pauses until the next iteration."
      ],
      "metadata": {
        "id": "KjMYcaSF_D9N"
      }
    },
    {
      "cell_type": "code",
      "source": [
        "# A generator function that generates the first n Fibonacci numbers\n",
        "def fibonacci(n):\n",
        "    a, b = 0, 1\n",
        "    for i in range(n):\n",
        "        yield a\n",
        "        a, b = b, a + b\n",
        "\n",
        "# Generate the first 10 Fibonacci numbers using the generator function\n",
        "fib_gen = fibonacci(10)\n",
        "\n",
        "# Loop through the generator and print the Fibonacci numbers\n",
        "for num in fib_gen:\n",
        "    print(num)\n"
      ],
      "metadata": {
        "colab": {
          "base_uri": "https://localhost:8080/"
        },
        "id": "1_IFsdVE_H22",
        "outputId": "c10d9816-4570-4472-ba26-6bea914e8abc"
      },
      "execution_count": null,
      "outputs": [
        {
          "output_type": "stream",
          "name": "stdout",
          "text": [
            "0\n",
            "1\n",
            "1\n",
            "2\n",
            "3\n",
            "5\n",
            "8\n",
            "13\n",
            "21\n",
            "34\n"
          ]
        }
      ]
    },
    {
      "cell_type": "markdown",
      "source": [
        "In this example, we use a generator function to create a generator that generates the first n Fibonacci numbers. We then loop through the generator and print each Fibonacci number.\n",
        "\n",
        "Key Differences between Python Generator Expressions and Generator Functions:\n",
        "\n",
        "*   Generator expressions are more concise and readable than generator functions.\n",
        "\n",
        "*   Generator expressions are generally faster than generator functions.\n",
        "*   Generator functions are more flexible and can handle more complex logic.\n",
        "*   Generator functions can be easier to debug, as they can be stepped through like any other function using a debugger.\n",
        "\n",
        "Overall, both generator expressions and generator functions are powerful tools for working with large amounts of data or long sequences of calculations in Python. The choice between them depends on the specific use case and the desired tradeoffs between readability, performance, and flexibility."
      ],
      "metadata": {
        "id": "5rWlk8vT_S7h"
      }
    }
  ]
}