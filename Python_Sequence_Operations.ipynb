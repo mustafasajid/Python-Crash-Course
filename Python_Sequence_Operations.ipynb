{
  "nbformat": 4,
  "nbformat_minor": 0,
  "metadata": {
    "colab": {
      "provenance": []
    },
    "kernelspec": {
      "name": "python3",
      "display_name": "Python 3"
    },
    "language_info": {
      "name": "python"
    }
  },
  "cells": [
    {
      "cell_type": "markdown",
      "source": [
        "# **Accessing Elements:**\n",
        "To access a specific element in a sequence (such as a string or a list), you can use square brackets with the index of the element you want to access:\n",
        "python\n"
      ],
      "metadata": {
        "id": "kJ8XfsICbpeI"
      }
    },
    {
      "cell_type": "code",
      "execution_count": null,
      "metadata": {
        "colab": {
          "base_uri": "https://localhost:8080/"
        },
        "id": "cr7-TuyQbg06",
        "outputId": "5423085f-8ef4-4f50-88d6-70c1727e9597"
      },
      "outputs": [
        {
          "output_type": "stream",
          "name": "stdout",
          "text": [
            "3\n",
            "w\n"
          ]
        }
      ],
      "source": [
        "my_list = [1, 2, 3, 4, 5]\n",
        "my_string = \"hello world\"\n",
        "print(my_list[2])   # Output: 3\n",
        "print(my_string[6]) # Output: w\n"
      ]
    },
    {
      "cell_type": "markdown",
      "source": [
        "# **Slicing:**\n",
        "You can also access a slice of elements from a sequence by specifying a start index and an end index separated by a colon inside the square brackets:"
      ],
      "metadata": {
        "id": "Is1Gdz9Db3xM"
      }
    },
    {
      "cell_type": "code",
      "source": [
        "my_list = [1, 2, 3, 4, 5]\n",
        "my_string = \"hello world\"\n",
        "print(my_list[1:3])      # Output: [2, 3]\n",
        "print(my_string[1:5])    # Output: \"ello\"\n",
        "print(my_string[:5])     # Output: \"hello\"\n",
        "print(my_string[6:])     # Output: \"world\"\n",
        "print(my_string[::2])    # Output: \"hlowrd\" (every other character)"
      ],
      "metadata": {
        "colab": {
          "base_uri": "https://localhost:8080/"
        },
        "id": "ytOhSKmub5UZ",
        "outputId": "d069e9b6-e9a7-43b8-dd3c-bab319cb5641"
      },
      "execution_count": null,
      "outputs": [
        {
          "output_type": "stream",
          "name": "stdout",
          "text": [
            "[2, 3]\n",
            "ello\n",
            "hello\n",
            "world\n",
            "hlowrd\n"
          ]
        }
      ]
    },
    {
      "cell_type": "markdown",
      "source": [
        "# **Concatenation:**\n",
        "To concatenate two sequences together, you can use the + operator:"
      ],
      "metadata": {
        "id": "6vWQSlmdf_pe"
      }
    },
    {
      "cell_type": "code",
      "source": [
        "list1 = [1, 2, 3]\n",
        "list2 = [4, 5, 6]\n",
        "concatenated_list = list1 + list2\n",
        "print(concatenated_list) # Output: [1, 2, 3, 4, 5, 6]\n",
        "\n",
        "string1 = \"hello\"\n",
        "string2 = \"world\"\n",
        "concatenated_string = string1 + \" \" + string2\n",
        "print(concatenated_string) # Output: \"hello world\"\n"
      ],
      "metadata": {
        "colab": {
          "base_uri": "https://localhost:8080/"
        },
        "id": "A5o0RRu4gBNL",
        "outputId": "d49271cc-1363-4f49-eac6-0d4b38389283"
      },
      "execution_count": null,
      "outputs": [
        {
          "output_type": "stream",
          "name": "stdout",
          "text": [
            "[1, 2, 3, 4, 5, 6]\n",
            "hello world\n"
          ]
        }
      ]
    },
    {
      "cell_type": "markdown",
      "source": [
        "# **Repetition:**\n",
        "You can repeat a sequence a certain number of times by using the * operator:"
      ],
      "metadata": {
        "id": "cL5nAMGogIPU"
      }
    },
    {
      "cell_type": "code",
      "source": [
        "my_list = [1, 2, 3]\n",
        "repeated_list = my_list * 3\n",
        "print(repeated_list) # Output: [1, 2, 3, 1, 2, 3, 1, 2, 3]\n",
        "\n",
        "my_string = \"hello\"\n",
        "repeated_string = my_string * 4\n",
        "print(repeated_string) # Output: \"hellohellohellohello\"\n"
      ],
      "metadata": {
        "colab": {
          "base_uri": "https://localhost:8080/"
        },
        "id": "elBl4cMEgKtL",
        "outputId": "540f24f2-b2f6-4df2-c4a0-e26a3c69ecf6"
      },
      "execution_count": null,
      "outputs": [
        {
          "output_type": "stream",
          "name": "stdout",
          "text": [
            "[1, 2, 3, 1, 2, 3, 1, 2, 3]\n",
            "hellohellohellohello\n"
          ]
        }
      ]
    },
    {
      "cell_type": "markdown",
      "source": [
        "# **Membership Test:**\n",
        "You can check if a value is present in a sequence using the in keyword:"
      ],
      "metadata": {
        "id": "zdJ4RTcohimu"
      }
    },
    {
      "cell_type": "code",
      "source": [
        "my_list = [1, 2, 3, 4, 5]\n",
        "if 3 in my_list:\n",
        "    print(\"3 is in the list.\")\n",
        "else:\n",
        "    print(\"3 is not in the list.\")\n",
        "\n",
        "my_string = \"hello world\"\n",
        "if \"hello\" in my_string:\n",
        "    print(\"hello is in the string.\")\n",
        "else:\n",
        "    print(\"hello is not in the string.\")\n"
      ],
      "metadata": {
        "colab": {
          "base_uri": "https://localhost:8080/"
        },
        "id": "VgO7-285hksG",
        "outputId": "d8549a33-fd2f-4c2e-d95a-f726867da3b5"
      },
      "execution_count": null,
      "outputs": [
        {
          "output_type": "stream",
          "name": "stdout",
          "text": [
            "3 is in the list.\n",
            "hello is in the string.\n"
          ]
        }
      ]
    },
    {
      "cell_type": "markdown",
      "source": [
        "# **Length:**\n",
        "You can find the length of a sequence using the built-in len() function:"
      ],
      "metadata": {
        "id": "OTIzJ_32htxE"
      }
    },
    {
      "cell_type": "code",
      "source": [
        "my_list = [1, 2, 3, 4, 5]\n",
        "print(len(my_list)) # Output: 5\n",
        "\n",
        "my_string = \"hello world\"\n",
        "print(len(my_string)) # Output: 11\n"
      ],
      "metadata": {
        "colab": {
          "base_uri": "https://localhost:8080/"
        },
        "id": "i4e9b2bohwFH",
        "outputId": "32624142-b0c6-439e-d944-afa04a6d0351"
      },
      "execution_count": null,
      "outputs": [
        {
          "output_type": "stream",
          "name": "stdout",
          "text": [
            "5\n",
            "11\n"
          ]
        }
      ]
    },
    {
      "cell_type": "markdown",
      "source": [
        "# **Sorting:**\n",
        "You can sort a sequence in ascending order using the built-in sorted() function:"
      ],
      "metadata": {
        "id": "BX4T0CCDh3NE"
      }
    },
    {
      "cell_type": "code",
      "source": [
        "my_list = [4, 2, 3, 1, 5]\n",
        "sorted_list = sorted(my_list)\n",
        "print(sorted_list) # Output: [1, 2, 3, 4, 5]\n",
        "\n",
        "my_string = \"hello world\"\n",
        "sorted_string = \"\".join(sorted(my_string))\n",
        "print(sorted_string)\n"
      ],
      "metadata": {
        "id": "y47kH7yOh5MT",
        "outputId": "7c5b758a-e004-4b5c-bce7-31391e73323c",
        "colab": {
          "base_uri": "https://localhost:8080/"
        }
      },
      "execution_count": null,
      "outputs": [
        {
          "output_type": "stream",
          "name": "stdout",
          "text": [
            "[1, 2, 3, 4, 5]\n",
            " dehllloorw\n"
          ]
        }
      ]
    }
  ]
}