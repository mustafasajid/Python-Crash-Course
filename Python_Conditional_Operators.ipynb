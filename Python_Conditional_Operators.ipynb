{
  "nbformat": 4,
  "nbformat_minor": 0,
  "metadata": {
    "colab": {
      "provenance": []
    },
    "kernelspec": {
      "name": "python3",
      "display_name": "Python 3"
    },
    "language_info": {
      "name": "python"
    }
  },
  "cells": [
    {
      "cell_type": "markdown",
      "source": [
        "# **Conditional Statements:**\n",
        "\n",
        "Python provides two types of conditional statements: \"if\" and \"if-else\" statements.\n",
        "\n",
        "**\"if\" statement:**\n",
        "It allows you to execute a block of code only if a certain condition is true. Here's the syntax:\n",
        "\n",
        "```\n",
        "if condition:\n",
        "    # code to be executed if condition is true\n",
        "```\n",
        "\n",
        "\n",
        "\n",
        "\n"
      ],
      "metadata": {
        "id": "he5H72vuiSvn"
      }
    },
    {
      "cell_type": "code",
      "source": [
        "Example:\n",
        "\n",
        "```\n",
        "x = 5\n",
        "\n",
        "if x > 0:\n",
        "    print(\"x is positive\")\n",
        "```\n",
        "\n"
      ],
      "metadata": {
        "id": "2x3ENitslNIP"
      },
      "execution_count": null,
      "outputs": []
    },
    {
      "cell_type": "markdown",
      "source": [
        "Explanation: In this example, the condition \"x > 0\" is true, so the code inside the \"if\" statement (i.e., \"print(\"x is positive\")\") is executed.\n",
        "\n",
        "**\"if-else\" statement:**\n",
        "\n",
        "It allows you to execute one block of code if a certain condition is true, and a different block of code if the condition is false. Here's the syntax:\n",
        "\n",
        "```\n",
        "if condition:\n",
        "    # code to be executed if condition is true\n",
        "else:\n",
        "    # code to be executed if condition is false\n",
        "\n",
        "```"
      ],
      "metadata": {
        "id": "U-5eRfUilQge"
      }
    },
    {
      "cell_type": "code",
      "execution_count": null,
      "metadata": {
        "colab": {
          "base_uri": "https://localhost:8080/"
        },
        "id": "xxsvS4ldiKv9",
        "outputId": "73c496b2-5897-4d1b-d8de-27f27ad98cef"
      },
      "outputs": [
        {
          "output_type": "stream",
          "name": "stdout",
          "text": [
            "x is positive\n"
          ]
        }
      ],
      "source": [
        "x = 5\n",
        "\n",
        "if x > 0:\n",
        "    print(\"x is positive\")\n",
        "else:\n",
        "    print(\"x is non-positive\")\n"
      ]
    },
    {
      "cell_type": "markdown",
      "source": [
        "Explanation: In this example, the condition \"x > 0\" is true, so the code inside the first block (i.e., \"print(\"x is positive\")\") is executed, and the code inside the second block is skipped.\n",
        "\n",
        "Logical Operators:\n",
        "\n",
        "Python provides three types of logical operators: \"and\", \"or\", and \"not\". They are used to combine or modify conditions.\n",
        "\n",
        "# **\"and\" operator: **\n",
        "It returns True if both conditions are true. Here's the syntax:\n",
        "```\n",
        "if condition1 and condition2:\n",
        "    # code to be executed if both condition1 and condition2 are true\n",
        "```\n"
      ],
      "metadata": {
        "id": "pbZwltAujqKA"
      }
    },
    {
      "cell_type": "code",
      "source": [
        "x = 5\n",
        "\n",
        "if x > 0 and x < 10:\n",
        "    print(\"x is a single-digit positive number\")\n"
      ],
      "metadata": {
        "colab": {
          "base_uri": "https://localhost:8080/"
        },
        "id": "IV7O20tsj2nz",
        "outputId": "80b13cec-e9c4-4929-c025-6009104f4d94"
      },
      "execution_count": null,
      "outputs": [
        {
          "output_type": "stream",
          "name": "stdout",
          "text": [
            "x is a single-digit positive number\n"
          ]
        }
      ]
    },
    {
      "cell_type": "markdown",
      "source": [
        "Explanation: In this example, both conditions \"x > 0\" and \"x < 10\" are true, so the code inside the \"if\" statement is executed.\n",
        "\n",
        "\"or\" operator: It returns True if at least one of the conditions is true. Here's the syntax:\n",
        "\n",
        "```\n",
        "if condition1 or condition2:\n",
        "    # code to be executed if either condition1 or condition2 (or both) are true\n",
        "\n",
        "\n",
        "```"
      ],
      "metadata": {
        "id": "kgSKEOvCkFLR"
      }
    },
    {
      "cell_type": "code",
      "source": [
        "x = 5\n",
        "\n",
        "if x < 0 or x > 10:\n",
        "    print(\"x is negative or has more than one digit\")\n"
      ],
      "metadata": {
        "id": "kMl_ndTAkS34"
      },
      "execution_count": null,
      "outputs": []
    },
    {
      "cell_type": "markdown",
      "source": [
        "Explanation: In this example, the condition \"x < 0\" is false, but \"x > 10\" is true, so the code inside the \"if\" statement is executed.\n",
        "\n",
        "# **\"not\" operator:**\n",
        "It returns the opposite of the condition. Here's the syntax:\n",
        "\n",
        "```\n",
        "if not condition:\n",
        "    # code to be executed if condition is false\n",
        "\n",
        "\n",
        "```"
      ],
      "metadata": {
        "id": "MFUS4O-rkZh6"
      }
    },
    {
      "cell_type": "code",
      "source": [
        "x = 5\n",
        "\n",
        "if not x < 0:\n",
        "    print(\"x is non-negative\")\n"
      ],
      "metadata": {
        "colab": {
          "base_uri": "https://localhost:8080/"
        },
        "id": "W5Mzy94fl1X6",
        "outputId": "2fdda4ae-1320-4277-af0e-b937feedf879"
      },
      "execution_count": null,
      "outputs": [
        {
          "output_type": "stream",
          "name": "stdout",
          "text": [
            "x is non-negative\n"
          ]
        }
      ]
    },
    {
      "cell_type": "markdown",
      "source": [
        "Explanation: In this example, the condition \"x < 0\" is false, so the \"not\" operator returns True, and the code inside the \"if\" statement is executed.\n",
        "\n",
        "**Combining conditional statements and logical operators:**\n",
        "\n",
        "You can combine multiple conditions and operators to create more complex conditions. Here are some examples:"
      ],
      "metadata": {
        "id": "ogR_uY5Sl2r4"
      }
    },
    {
      "cell_type": "code",
      "source": [],
      "metadata": {
        "id": "Gx7_a5vxl702"
      },
      "execution_count": null,
      "outputs": []
    }
  ]
}