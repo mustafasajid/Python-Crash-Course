{
  "nbformat": 4,
  "nbformat_minor": 0,
  "metadata": {
    "colab": {
      "provenance": []
    },
    "kernelspec": {
      "name": "python3",
      "display_name": "Python 3"
    },
    "language_info": {
      "name": "python"
    }
  },
  "cells": [
    {
      "cell_type": "markdown",
      "source": [
        "# **Scenario 1: Creating a new list of even numbers**"
      ],
      "metadata": {
        "id": "VaJyaWk3R4Pm"
      }
    },
    {
      "cell_type": "code",
      "execution_count": null,
      "metadata": {
        "colab": {
          "base_uri": "https://localhost:8080/"
        },
        "id": "ceBYLptjRvjE",
        "outputId": "1ca59c75-173c-40bb-9959-a9bf1ba5efeb"
      },
      "outputs": [
        {
          "output_type": "stream",
          "name": "stdout",
          "text": [
            "[2, 4, 6]\n",
            "[-4, -2, 0, 2, 4]\n"
          ]
        }
      ],
      "source": [
        "# Example 1\n",
        "original_list = [1, 2, 3, 4, 5, 6]\n",
        "even_numbers = [num for num in original_list if num % 2 == 0]\n",
        "print(even_numbers)  # Output: [2, 4, 6]\n",
        "\n",
        "# Example 2\n",
        "original_list = [-5, -4, -3, -2, -1, 0, 1, 2, 3, 4, 5]\n",
        "even_numbers = [num for num in original_list if num % 2 == 0]\n",
        "print(even_numbers)  # Output: [-4, -2, 0, 2, 4]\n"
      ]
    },
    {
      "cell_type": "markdown",
      "source": [
        "Explanation: In this scenario, we want to create a new list containing only the even numbers from an existing list. We do this using list comprehension by iterating over the original list and adding each even number to the new list using a conditional statement that checks if the number is even."
      ],
      "metadata": {
        "id": "_HJAPJhaSFwk"
      }
    },
    {
      "cell_type": "markdown",
      "source": [
        "# **Scenario 2: Creating a new list of squared numbers**"
      ],
      "metadata": {
        "id": "vpZJRHN4SITO"
      }
    },
    {
      "cell_type": "code",
      "source": [
        "# Example 1\n",
        "original_list = [1, 2, 3, 4, 5, 6]\n",
        "squared_numbers = [num**2 for num in original_list]\n",
        "print(squared_numbers)  # Output: [1, 4, 9, 16, 25, 36]\n",
        "\n",
        "# Example 2\n",
        "original_list = [-5, -4, -3, -2, -1, 0, 1, 2, 3, 4, 5]\n",
        "squared_numbers = [num**2 for num in original_list]\n",
        "print(squared_numbers)  # Output: [25, 16, 9, 4, 1, 0, 1, 4, 9, 16, 25]\n"
      ],
      "metadata": {
        "colab": {
          "base_uri": "https://localhost:8080/"
        },
        "id": "73kU0UwoSGf4",
        "outputId": "b4c3448a-7c93-44e2-c8a2-f75cdb37aa08"
      },
      "execution_count": null,
      "outputs": [
        {
          "output_type": "stream",
          "name": "stdout",
          "text": [
            "[1, 4, 9, 16, 25, 36]\n",
            "[25, 16, 9, 4, 1, 0, 1, 4, 9, 16, 25]\n"
          ]
        }
      ]
    },
    {
      "cell_type": "markdown",
      "source": [
        "Explanation: In this scenario, we want to create a new list containing the squared values of each number in an existing list. We do this using list comprehension by iterating over the original list and squaring each number using the exponent operator (**)."
      ],
      "metadata": {
        "id": "r60gLg-9SRMr"
      }
    },
    {
      "cell_type": "markdown",
      "source": [
        "# **Scenario 3: Creating a new list of tuples**"
      ],
      "metadata": {
        "id": "okfGBJ-bSTnI"
      }
    },
    {
      "cell_type": "code",
      "source": [
        "# Example 1\n",
        "names = ['Alice', 'Bob', 'Charlie', 'David']\n",
        "ages = [25, 30, 35, 40]\n",
        "people = [(name, age) for name, age in zip(names, ages)]\n",
        "print(people)  # Output: [('Alice', 25), ('Bob', 30), ('Charlie', 35), ('David', 40)]\n",
        "\n",
        "# Example 2\n",
        "fruits = ['apple', 'banana', 'cherry']\n",
        "colors = ['red', 'yellow', 'red']\n",
        "fruit_colors = [(fruit, color) for fruit, color in zip(fruits, colors)]\n",
        "print(fruit_colors)  # Output: [('apple', 'red'), ('banana', 'yellow'), ('cherry', 'red')]\n"
      ],
      "metadata": {
        "id": "9-oFzGECSRzg"
      },
      "execution_count": null,
      "outputs": []
    },
    {
      "cell_type": "markdown",
      "source": [
        "Explanation: In this scenario, we want to create a new list of tuples where each tuple contains information from two separate lists. We do this using list comprehension and the built-in zip() function, which takes two or more iterable objects and returns a list of tuples where the i-th tuple contains the i-th element from each of the input iterables"
      ],
      "metadata": {
        "id": "jM4W34A5SbP0"
      }
    },
    {
      "cell_type": "markdown",
      "source": [
        "# **Scenario 4: Creating a new list of strings**"
      ],
      "metadata": {
        "id": "Fp3kJyxXSbwh"
      }
    },
    {
      "cell_type": "code",
      "source": [
        "# Example 1\n",
        "words = ['hello', 'world', 'python', 'list', 'comprehension']\n",
        "capitalized_words = [word.capitalize() for word in words]\n",
        "print(capitalized_words) # Output: ['Hello', 'World', 'Python', 'List', 'Comprehension']\n",
        "\n",
        "# Example 2\n",
        "numbers = [1, 2, 3, 4, 5]\n",
        "number_strings = [str(num) for num in numbers]\n",
        "print(number_strings) # Output: ['1', '2', '3', '4', '5']"
      ],
      "metadata": {
        "colab": {
          "base_uri": "https://localhost:8080/"
        },
        "id": "Xc93CtrhSgOH",
        "outputId": "6e8f55cd-312e-4eb5-d546-4565896e4b47"
      },
      "execution_count": null,
      "outputs": [
        {
          "output_type": "stream",
          "name": "stdout",
          "text": [
            "['Hello', 'World', 'Python', 'List', 'Comprehension']\n",
            "['1', '2', '3', '4', '5']\n"
          ]
        }
      ]
    },
    {
      "cell_type": "markdown",
      "source": [
        "Explanation: In this scenario, we want to create a new list of strings by modifying each element in an existing list. We do this using list comprehension and applying specific string operations, such as capitalizing the first letter of each word (`capitalize()`) or converting numbers to strings (`str()`).\n",
        "\n",
        "These are just a few examples of how list comprehension can be used in different scenarios. List comprehension provides a concise way to create new lists based on existing lists or other iterable objects, and it can be customized using conditions and expressions within the comprehension syntax.\n"
      ],
      "metadata": {
        "id": "1wShLQ2MSyu5"
      }
    }
  ]
}