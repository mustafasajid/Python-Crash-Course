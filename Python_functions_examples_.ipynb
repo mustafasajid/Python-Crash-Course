{
  "nbformat": 4,
  "nbformat_minor": 0,
  "metadata": {
    "colab": {
      "provenance": []
    },
    "kernelspec": {
      "name": "python3",
      "display_name": "Python 3"
    },
    "language_info": {
      "name": "python"
    }
  },
  "cells": [
    {
      "cell_type": "markdown",
      "source": [
        "# **Defining a simple function that returns a value:**\n"
      ],
      "metadata": {
        "id": "DbpOfpER0AtG"
      }
    },
    {
      "cell_type": "code",
      "execution_count": null,
      "metadata": {
        "colab": {
          "base_uri": "https://localhost:8080/"
        },
        "id": "vJqgHE0yz83w",
        "outputId": "f30f4207-74a2-4516-84c3-910ceaafb45d"
      },
      "outputs": [
        {
          "output_type": "stream",
          "name": "stdout",
          "text": [
            "3\n"
          ]
        }
      ],
      "source": [
        "def add_numbers(a, b):\n",
        "    return a + b\n",
        "\n",
        "print(add_numbers(1,2))"
      ]
    },
    {
      "cell_type": "markdown",
      "source": [
        "In this example, we define a function called add_numbers that takes two arguments (a and b) and returns their sum. We use the return statement to indicate the value that the function should return."
      ],
      "metadata": {
        "id": "9yhSJDnI1TDI"
      }
    },
    {
      "cell_type": "markdown",
      "source": [
        "# **Defining a function with default argument values:**"
      ],
      "metadata": {
        "id": "5k5VB5Ar2QGS"
      }
    },
    {
      "cell_type": "code",
      "source": [
        "def greet(name=\"World\"):\n",
        "    print(f\"Hello, {name}!\")\n",
        "#without Value\n",
        "greet()\n",
        "\n",
        "#With Value\n",
        "greet('Mustafa')"
      ],
      "metadata": {
        "colab": {
          "base_uri": "https://localhost:8080/"
        },
        "id": "MZNjay4a2e5-",
        "outputId": "52436595-d70e-4799-db5e-7b2fc75a1480"
      },
      "execution_count": null,
      "outputs": [
        {
          "output_type": "stream",
          "name": "stdout",
          "text": [
            "Hello, World!\n",
            "Hello, Mustafa!\n"
          ]
        }
      ]
    },
    {
      "cell_type": "markdown",
      "source": [
        "In this example, we define a function called greet that takes one argument (name) and prints a greeting message using that name. If no argument is provided, the function defaults to using the string \"World\" as the name."
      ],
      "metadata": {
        "id": "kRvlhwsK2vN6"
      }
    },
    {
      "cell_type": "markdown",
      "source": [
        "# **Defining a function with an optional argument:**"
      ],
      "metadata": {
        "id": "pYHk9aEs21-w"
      }
    },
    {
      "cell_type": "code",
      "source": [
        "def print_message(message, times=1):\n",
        "    for i in range(times):\n",
        "        print(message)\n",
        "\n",
        "#for default time\n",
        "print_message('for default time,Print This Text')\n",
        "\n",
        "#for N time\n",
        "print_message('for N time,Print This Text',5)"
      ],
      "metadata": {
        "colab": {
          "base_uri": "https://localhost:8080/"
        },
        "id": "LLCPWhqa29Ii",
        "outputId": "d165d5af-2846-4366-9b75-231a6329d7c2"
      },
      "execution_count": null,
      "outputs": [
        {
          "output_type": "stream",
          "name": "stdout",
          "text": [
            "for default time,Print This Text\n",
            "for N time,Print This Text\n",
            "for N time,Print This Text\n",
            "for N time,Print This Text\n",
            "for N time,Print This Text\n",
            "for N time,Print This Text\n"
          ]
        }
      ]
    },
    {
      "cell_type": "markdown",
      "source": [
        "In this example, we define a function called print_message that takes two arguments: message and times. The times argument is optional and defaults to 1. The function uses a for loop to print the message the specified number of times."
      ],
      "metadata": {
        "id": "6g-cHVzr3isL"
      }
    },
    {
      "cell_type": "markdown",
      "source": [
        "# **Defining a function that takes a variable number of arguments:**\n"
      ],
      "metadata": {
        "id": "3mL-2qpv3kNZ"
      }
    },
    {
      "cell_type": "code",
      "source": [
        "def calculate_sum(*numbers):\n",
        "    total = sum(numbers)\n",
        "    return total\n",
        "\n",
        "print(calculate_sum(3,2,4))"
      ],
      "metadata": {
        "colab": {
          "base_uri": "https://localhost:8080/"
        },
        "id": "r6ylEyOx3jj1",
        "outputId": "6755c2fb-2056-4ad6-a697-57b0fe33026a"
      },
      "execution_count": null,
      "outputs": [
        {
          "output_type": "stream",
          "name": "stdout",
          "text": [
            "9\n"
          ]
        }
      ]
    },
    {
      "cell_type": "markdown",
      "source": [
        "In this example, we define a function called calculate_sum that takes any number of arguments and returns their sum. We use the * operator to indicate that the function should accept a variable number of arguments, and we use the built-in sum function to calculate their sum."
      ],
      "metadata": {
        "id": "NzcbYAYH5ZpN"
      }
    },
    {
      "cell_type": "markdown",
      "source": [
        "# **Defining a function that returns multiple values:**"
      ],
      "metadata": {
        "id": "GZ7lAeUf5bsn"
      }
    },
    {
      "cell_type": "code",
      "source": [
        "def get_name_and_age():\n",
        "    name = input(\"Enter your name: \")\n",
        "    age = int(input(\"Enter your age: \"))\n",
        "    return name, age\n",
        "get_name_and_age()"
      ],
      "metadata": {
        "colab": {
          "base_uri": "https://localhost:8080/"
        },
        "id": "UnG-ivSu5dqz",
        "outputId": "3354e303-d6c6-4193-bd2e-50ea124726a5"
      },
      "execution_count": null,
      "outputs": [
        {
          "name": "stdout",
          "output_type": "stream",
          "text": [
            "Enter your name: Mustafa\n",
            "Enter your age: 31\n"
          ]
        },
        {
          "output_type": "execute_result",
          "data": {
            "text/plain": [
              "('Mustafa', 31)"
            ]
          },
          "metadata": {},
          "execution_count": 12
        }
      ]
    },
    {
      "cell_type": "markdown",
      "source": [
        "In this example, we define a function called get_name_and_age that prompts the user to enter their name and age, and returns those values as a tuple. We can then assign the returned values to separate variables when we call the function, like this:"
      ],
      "metadata": {
        "id": "bnvkDbyW5uQY"
      }
    },
    {
      "cell_type": "markdown",
      "source": [
        "# **Defining a function with a docstring:**"
      ],
      "metadata": {
        "id": "0woCDO1C5u7P"
      }
    },
    {
      "cell_type": "code",
      "source": [
        "def calculate_product(a, b):\n",
        "    \"\"\"\n",
        "    Returns the product of two numbers.\n",
        "\n",
        "    Arguments:\n",
        "    a -- the first number\n",
        "    b -- the second number\n",
        "    \"\"\"\n",
        "    return a * b\n",
        "calculate_product(2,3)"
      ],
      "metadata": {
        "colab": {
          "base_uri": "https://localhost:8080/"
        },
        "id": "HybNErdw5y8o",
        "outputId": "00c3ba73-25a4-48a7-b765-e48ec830ec38"
      },
      "execution_count": null,
      "outputs": [
        {
          "output_type": "execute_result",
          "data": {
            "text/plain": [
              "6"
            ]
          },
          "metadata": {},
          "execution_count": 13
        }
      ]
    },
    {
      "cell_type": "markdown",
      "source": [
        "In this example, we define a function called calculate_product that takes two arguments (a and b) and returns their product. We include a docstring (a string enclosed in triple quotes) at the beginning of the function to provide documentation for the function. This docstring can be accessed using the __doc__ attribute of the function, like this:"
      ],
      "metadata": {
        "id": "bCj-0ZHB6E2Q"
      }
    },
    {
      "cell_type": "code",
      "source": [
        "help(calculate_product)\n"
      ],
      "metadata": {
        "id": "LJ8aZgu56GeR",
        "outputId": "c8da4346-4db7-43c8-f4be-b14034af178e",
        "colab": {
          "base_uri": "https://localhost:8080/"
        }
      },
      "execution_count": null,
      "outputs": [
        {
          "output_type": "stream",
          "name": "stdout",
          "text": [
            "Help on function calculate_product in module __main__:\n",
            "\n",
            "calculate_product(a, b)\n",
            "    Returns the product of two numbers.\n",
            "    \n",
            "    Arguments:\n",
            "    a -- the first number\n",
            "    b -- the second number\n",
            "\n"
          ]
        }
      ]
    }
  ]
}